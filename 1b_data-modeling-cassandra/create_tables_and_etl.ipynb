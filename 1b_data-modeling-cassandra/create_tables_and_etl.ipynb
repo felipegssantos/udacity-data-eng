{
 "cells": [
  {
   "cell_type": "markdown",
   "metadata": {
    "editable": true
   },
   "source": [
    "# Part I. ETL Pipeline for Pre-Processing the Files"
   ]
  },
  {
   "cell_type": "markdown",
   "metadata": {
    "editable": true
   },
   "source": [
    "## PLEASE RUN THE FOLLOWING CODE FOR PRE-PROCESSING THE FILES"
   ]
  },
  {
   "cell_type": "markdown",
   "metadata": {
    "editable": true
   },
   "source": [
    "#### Import Python packages "
   ]
  },
  {
   "cell_type": "code",
   "execution_count": 1,
   "metadata": {
    "editable": true
   },
   "outputs": [],
   "source": [
    "# Import Python packages \n",
    "import cassandra\n",
    "import re\n",
    "import os\n",
    "import glob\n",
    "import json\n",
    "import csv"
   ]
  },
  {
   "cell_type": "markdown",
   "metadata": {
    "editable": true
   },
   "source": [
    "#### Creating list of filepaths to process original event csv data files"
   ]
  },
  {
   "cell_type": "code",
   "execution_count": 2,
   "metadata": {
    "editable": true
   },
   "outputs": [
    {
     "name": "stdout",
     "output_type": "stream",
     "text": [
      "/Users/felipe/Projects/udacity/data-engineering-nanodegree/1b_data-modeling-cassandra\n"
     ]
    }
   ],
   "source": [
    "# checking your current working directory\n",
    "print(os.getcwd())\n",
    "\n",
    "# Get your current folder and subfolder event data\n",
    "filepath = os.getcwd() + '/event_data'\n",
    "\n",
    "# Create a for loop to create a list of files and collect each filepath\n",
    "for root, dirs, files in os.walk(filepath):\n",
    "    \n",
    "# join the file path and roots with the subdirectories using glob\n",
    "    file_path_list = glob.glob(os.path.join(root,'*'))\n",
    "    #print(file_path_list)"
   ]
  },
  {
   "cell_type": "markdown",
   "metadata": {
    "editable": true
   },
   "source": [
    "#### Processing the files to create the data file csv that will be used for Apache Casssandra tables"
   ]
  },
  {
   "cell_type": "code",
   "execution_count": 3,
   "metadata": {
    "editable": true
   },
   "outputs": [],
   "source": [
    "# initiating an empty list of rows that will be generated from each file\n",
    "full_data_rows_list = [] \n",
    "    \n",
    "# for every filepath in the file path list \n",
    "for f in file_path_list:\n",
    "\n",
    "# reading csv file \n",
    "    with open(f, 'r', encoding = 'utf8', newline='') as csvfile: \n",
    "        # creating a csv reader object \n",
    "        csvreader = csv.reader(csvfile) \n",
    "        next(csvreader)\n",
    "        \n",
    " # extracting each data row one by one and append it        \n",
    "        for line in csvreader:\n",
    "            #print(line)\n",
    "            full_data_rows_list.append(line) \n",
    "            \n",
    "# uncomment the code below if you would like to get total number of rows \n",
    "# print(len(full_data_rows_list))\n",
    "# uncomment the code below if you would like to check to see what the list of event data rows will look like\n",
    "# print(full_data_rows_list)\n",
    "\n",
    "# creating a smaller event data csv file called event_datafile_full csv that will be used to insert data into the\n",
    "# Apache Cassandra tables\n",
    "csv.register_dialect('myDialect', quoting=csv.QUOTE_ALL, skipinitialspace=True)\n",
    "\n",
    "with open('event_datafile_new.csv', 'w', encoding = 'utf8', newline='') as f:\n",
    "    writer = csv.writer(f, dialect='myDialect')\n",
    "    writer.writerow(['artist','firstName','gender','itemInSession','lastName','length',\\\n",
    "                'level','location','sessionId','song','userId'])\n",
    "    for row in full_data_rows_list:\n",
    "        if (row[0] == ''):\n",
    "            continue\n",
    "        writer.writerow((row[0], row[2], row[3], row[4], row[5], row[6], row[7], row[8], row[12], row[13], row[16]))\n"
   ]
  },
  {
   "cell_type": "code",
   "execution_count": 4,
   "metadata": {
    "editable": true
   },
   "outputs": [
    {
     "name": "stdout",
     "output_type": "stream",
     "text": [
      "6821\n"
     ]
    }
   ],
   "source": [
    "# check the number of rows in your csv file\n",
    "with open('event_datafile_new.csv', 'r', encoding = 'utf8') as f:\n",
    "    print(sum(1 for line in f))"
   ]
  },
  {
   "cell_type": "markdown",
   "metadata": {
    "editable": true
   },
   "source": [
    "# Part II. Complete the Apache Cassandra coding portion of your project. \n",
    "\n",
    "## The event_datafile_new.csv contains the following columns: \n",
    "- artist \n",
    "- firstName of user\n",
    "- gender of user\n",
    "- item number in session\n",
    "- last name of user\n",
    "- length of the song\n",
    "- level (paid or free song)\n",
    "- location of the user\n",
    "- sessionId\n",
    "- song title\n",
    "- userId\n",
    "\n",
    "The image below is a screenshot of what the denormalized data looks like in the <font color=red>**event_datafile_new.csv**</font> after the code above is run:<br>\n",
    "\n",
    "<img src=\"images/image_event_datafile_new.jpg\">"
   ]
  },
  {
   "cell_type": "markdown",
   "metadata": {
    "editable": true
   },
   "source": [
    "## Apache Cassandra code"
   ]
  },
  {
   "cell_type": "markdown",
   "metadata": {
    "editable": true
   },
   "source": [
    "#### Creating a Cluster"
   ]
  },
  {
   "cell_type": "code",
   "execution_count": 5,
   "metadata": {
    "editable": true
   },
   "outputs": [],
   "source": [
    "# Make a connection to a Cassandra instance in my local machine \n",
    "# (127.0.0.1)\n",
    "from cassandra.cluster import Cluster\n",
    "cluster = Cluster()\n",
    "\n",
    "# To establish connection and begin executing queries, need a session\n",
    "session = cluster.connect()"
   ]
  },
  {
   "cell_type": "markdown",
   "metadata": {
    "editable": true
   },
   "source": [
    "#### Create Keyspace \"sparkifydb\""
   ]
  },
  {
   "cell_type": "code",
   "execution_count": 6,
   "metadata": {
    "editable": true
   },
   "outputs": [
    {
     "data": {
      "text/plain": [
       "<cassandra.cluster.ResultSet at 0x1069c4b20>"
      ]
     },
     "execution_count": 6,
     "metadata": {},
     "output_type": "execute_result"
    }
   ],
   "source": [
    "session.execute(\"\"\"CREATE KEYSPACE IF NOT EXISTS sparkifydb\n",
    "                   WITH REPLICATION =\n",
    "                   {'class': 'SimpleStrategy', 'replication_factor': 1}\"\"\")"
   ]
  },
  {
   "cell_type": "markdown",
   "metadata": {
    "editable": true
   },
   "source": [
    "#### Set Keyspace to \"sparkifydb\""
   ]
  },
  {
   "cell_type": "code",
   "execution_count": 7,
   "metadata": {
    "editable": true
   },
   "outputs": [],
   "source": [
    "session.set_keyspace('sparkifydb')"
   ]
  },
  {
   "cell_type": "markdown",
   "metadata": {
    "editable": true
   },
   "source": [
    "## Queries to answer the following three questions of the data\n",
    "\n",
    "### 1. Give me the artist, song title and song's length in the music app history that was heard during  sessionId = 338, and itemInSession  = 4\n",
    "\n",
    "\n",
    "### 2. Give me only the following: name of artist, song (sorted by itemInSession) and user (first and last name) for userid = 10, sessionid = 182\n",
    "    \n",
    "\n",
    "### 3. Give me every user name (first and last) in my music app history who listened to the song 'All Hands Against His Own'\n",
    "\n",
    "\n"
   ]
  },
  {
   "cell_type": "markdown",
   "metadata": {},
   "source": [
    "#### First, drop all tables in case they already exist"
   ]
  },
  {
   "cell_type": "code",
   "execution_count": 8,
   "metadata": {},
   "outputs": [],
   "source": [
    "drop_session_history = 'DROP TABLE IF EXISTS session_history'\n",
    "drop_user_history = 'DROP TABLE IF EXISTS user_history'\n",
    "drop_song_history = 'DROP TABLE IF EXISTS song_history'\n",
    "\n",
    "drop_table_queries = [drop_session_history, drop_user_history, drop_song_history]\n",
    "for query in drop_table_queries:\n",
    "    session.execute(query)"
   ]
  },
  {
   "cell_type": "markdown",
   "metadata": {},
   "source": [
    "#### Now let us create tables to answer the 3 questions above. I am using the \"one table per query\" strategy."
   ]
  },
  {
   "cell_type": "markdown",
   "metadata": {},
   "source": [
    "Table to answer \"1. Give me the artist, song title and song's length in the music app history that was heard during sessionId = 338, and itemInSession = 4\"\n",
    "> **Explanation**: this table must allow for filtering by sessionId and then by itemInSession. Therefore, we use those as partition key and clustering column, respectively. The reamining table columns are the values one wish to retrieve in order to answer the question."
   ]
  },
  {
   "cell_type": "code",
   "execution_count": 9,
   "metadata": {},
   "outputs": [],
   "source": [
    "create_session_history = \"\"\"CREATE TABLE IF NOT EXISTS session_history (session_id int,\n",
    "                                                                        item_in_session int,\n",
    "                                                                        artist text,\n",
    "                                                                        song_title text,\n",
    "                                                                        song_length double,\n",
    "                                                                        PRIMARY KEY(session_id, item_in_session))\"\"\""
   ]
  },
  {
   "cell_type": "markdown",
   "metadata": {},
   "source": [
    "Table to answer \"2. Give me only the following: name of artist, song (sorted by itemInSession) and user (first and last name) for userid = 10, sessionid = 182\"\n",
    "> **Explanation**: we choose userId as the partition key, since it is the first filter we wish to apply; userId as the first clustering column because later we need to filter by its value; and itemInSession as the second clustering column to be sure the query results will be sorted by its value. The remaining columns are the values one wish to retrieve in order to answer the question."
   ]
  },
  {
   "cell_type": "code",
   "execution_count": 10,
   "metadata": {},
   "outputs": [],
   "source": [
    "create_user_history = \"\"\"CREATE TABLE IF NOT EXISTS user_history (user_id int,\n",
    "                                                                  session_id int,\n",
    "                                                                  item_in_session int,\n",
    "                                                                  artist text,\n",
    "                                                                  song_title text,\n",
    "                                                                  first_name text,\n",
    "                                                                  last_name text,\n",
    "                                                                  PRIMARY KEY(user_id, session_id, item_in_session))\"\"\""
   ]
  },
  {
   "cell_type": "markdown",
   "metadata": {},
   "source": [
    "Table to answer \"3. Give me every user name (first and last) in my music app history who listened to the song 'All Hands Against His Own'\"\n",
    "> **Explanation**: the song's title must be the partition key because we only want to filter by its value. However, we need userId as a clustering column, otherwise different records of the same song with different userId's would overwrite each other — and we would end up with only one userId per song in the final table. The reamining columns are the ones we want to retrieve in order to answer the question."
   ]
  },
  {
   "cell_type": "code",
   "execution_count": 11,
   "metadata": {},
   "outputs": [],
   "source": [
    "create_song_history = \"\"\"CREATE TABLE IF NOT EXISTS song_history (song_title text,\n",
    "                                                                  user_id int,\n",
    "                                                                  first_name text,\n",
    "                                                                  last_name text,\n",
    "                                                                  PRIMARY KEY(song_title, user_id))\"\"\""
   ]
  },
  {
   "cell_type": "code",
   "execution_count": 12,
   "metadata": {},
   "outputs": [],
   "source": [
    "# Now create all tables\n",
    "create_table_queries = [create_session_history, create_user_history, create_song_history]\n",
    "for query in create_table_queries:\n",
    "    session.execute(query)"
   ]
  },
  {
   "cell_type": "markdown",
   "metadata": {},
   "source": [
    "#### Insert data from `event_datafile_new.csv` into all tables. I am doing so by first creating a stream of events and then processing each event into the 3 tables."
   ]
  },
  {
   "cell_type": "code",
   "execution_count": 13,
   "metadata": {},
   "outputs": [],
   "source": [
    "def stream_from_file(csv_file_path):\n",
    "    \"\"\"\n",
    "    Iterates over lines of CSV file located in csv_file_path until all events have been consumed.\n",
    "\n",
    "    :param csv_file_path: path to CSV file containing all events\n",
    "    :return: iterator of dict with event data\n",
    "    \"\"\"\n",
    "    with open(csv_file_path, 'r', encoding='utf8', newline='') as csv_file:\n",
    "        csv_reader = csv.reader(csv_file)\n",
    "        header = next(csv_reader)\n",
    "        for line in csv_reader:\n",
    "            if line[0] == '':\n",
    "                continue\n",
    "            event = {k: v for k, v in zip(header, line)}\n",
    "            event['length'] = float(event['length'])\n",
    "            event['userId'] = int(event['userId'])\n",
    "            event['itemInSession'] = int(event['itemInSession'])\n",
    "            event['sessionId'] = int(event['sessionId'])\n",
    "            yield event"
   ]
  },
  {
   "cell_type": "code",
   "execution_count": 14,
   "metadata": {},
   "outputs": [],
   "source": [
    "# Insert statement for table that answers \"1. Give me the artist, song title and song's length in the music app \n",
    "#  history that was heard during sessionId = 338, and itemInSession = 4\"\n",
    "insert_session_history = \"\"\"INSERT INTO session_history (session_id, item_in_session, artist, song_title, song_length)\n",
    "                            VALUES (%s, %s, %s, %s, %s)\"\"\"\n",
    "\n",
    "# Insert statement for table that answers \"2. Give me only the following: name of artist, song (sorted by itemInSession) \n",
    "#  and user (first and last name) for userid = 10, sessionid = 182\"\n",
    "insert_user_history = \"\"\"INSERT INTO user_history (user_id, session_id, item_in_session,\n",
    "                                                   artist, song_title, first_name, last_name)\n",
    "                         VALUES (%s, %s, %s, %s, %s, %s, %s)\"\"\"\n",
    "\n",
    "# Insert statement for table that answers \"3. Give me every user name (first and last) in my music app history who \n",
    "#  listened to the song 'All Hands Against His Own'\"\n",
    "insert_song_history = \"\"\"INSERT INTO song_history (song_title, user_id, first_name, last_name)\n",
    "                         VALUES (%s, %s, %s, %s)\"\"\""
   ]
  },
  {
   "cell_type": "code",
   "execution_count": 15,
   "metadata": {
    "editable": true
   },
   "outputs": [
    {
     "name": "stdout",
     "output_type": "stream",
     "text": [
      "All events were inserted.\n"
     ]
    }
   ],
   "source": [
    "# Create event stream and insert event data into all tables\n",
    "event_stream = stream_from_file('event_datafile_new.csv')\n",
    "for i, event in enumerate(event_stream, start=1):\n",
    "    print(f'Processing event {i}.', end='\\r', flush=True)\n",
    "    session.execute(insert_session_history, (event['sessionId'], event['itemInSession'], event['artist'],\n",
    "                                             event['song'], event['length']))\n",
    "    session.execute(insert_user_history, (event['userId'], event['sessionId'], event['itemInSession'],\n",
    "                                          event['artist'], event['song'], event['firstName'], event['lastName']))\n",
    "    session.execute(insert_song_history, (event['song'], event['userId'], event['firstName'], event['lastName']))\n",
    "print('All events were inserted.')"
   ]
  },
  {
   "cell_type": "markdown",
   "metadata": {
    "editable": true
   },
   "source": [
    "#### Now we can finally answer the questions."
   ]
  },
  {
   "cell_type": "code",
   "execution_count": 16,
   "metadata": {},
   "outputs": [],
   "source": [
    "def process_query(session, query, values):\n",
    "    \"\"\"\n",
    "    Utility function to process cassandra queries and print its results.\n",
    "    \n",
    "    :param session: an open cassandra session\n",
    "    :param query: a string representing a CQL query; it allows placeholders to be represented as %s\n",
    "    :param values: list of values to be inserted in \"%s\" placeholders of query\n",
    "    \"\"\"\n",
    "    rows = session.execute(query, values)\n",
    "    for row in rows:\n",
    "        print(row)"
   ]
  },
  {
   "cell_type": "markdown",
   "metadata": {},
   "source": [
    "### 1. Give me the artist, song title and song's length in the music app history that was heard during sessionId = 338, and itemInSession = 4"
   ]
  },
  {
   "cell_type": "code",
   "execution_count": 17,
   "metadata": {
    "editable": true,
    "scrolled": true
   },
   "outputs": [
    {
     "name": "stdout",
     "output_type": "stream",
     "text": [
      "Row(artist='Faithless', song_title='Music Matters (Mark Knight Dub)', song_length=495.3073)\n"
     ]
    }
   ],
   "source": [
    "select_session_data = \"\"\"SELECT artist, song_title, song_length\n",
    "                         FROM session_history WHERE session_id=%s AND item_in_session=%s\"\"\"\n",
    "process_query(session, select_session_data, (338, 4))"
   ]
  },
  {
   "cell_type": "markdown",
   "metadata": {},
   "source": [
    "### 2. Give me only the following: name of artist, song (sorted by itemInSession) and user (first and last name) for userid = 10, sessionid = 182"
   ]
  },
  {
   "cell_type": "code",
   "execution_count": 18,
   "metadata": {},
   "outputs": [
    {
     "name": "stdout",
     "output_type": "stream",
     "text": [
      "Row(artist='Down To The Bone', song_title=\"Keep On Keepin' On\", first_name='Sylvie', last_name='Cruz')\n",
      "Row(artist='Three Drives', song_title='Greece 2000', first_name='Sylvie', last_name='Cruz')\n",
      "Row(artist='Sebastien Tellier', song_title='Kilometer', first_name='Sylvie', last_name='Cruz')\n",
      "Row(artist='Lonnie Gordon', song_title='Catch You Baby (Steve Pitron & Max Sanna Radio Edit)', first_name='Sylvie', last_name='Cruz')\n"
     ]
    }
   ],
   "source": [
    "select_user_data = \"\"\"SELECT artist, song_title, first_name, last_name\n",
    "                      FROM user_history WHERE user_id=%s AND session_id=%s\"\"\"\n",
    "process_query(session, select_user_data, (10, 182))"
   ]
  },
  {
   "cell_type": "markdown",
   "metadata": {},
   "source": [
    "### 3. Give me every user name (first and last) in my music app history who listened to the song 'All Hands Against His Own'"
   ]
  },
  {
   "cell_type": "code",
   "execution_count": 19,
   "metadata": {},
   "outputs": [
    {
     "name": "stdout",
     "output_type": "stream",
     "text": [
      "Row(first_name='Jacqueline', last_name='Lynch')\n",
      "Row(first_name='Tegan', last_name='Levine')\n",
      "Row(first_name='Sara', last_name='Johnson')\n"
     ]
    }
   ],
   "source": [
    "select_song_data = \"\"\"SELECT first_name, last_name\n",
    "                      FROM song_history WHERE song_title=%s\"\"\"\n",
    "process_query(session, select_song_data, ('All Hands Against His Own',))"
   ]
  },
  {
   "cell_type": "markdown",
   "metadata": {
    "editable": true
   },
   "source": [
    "### Job's done. Let us drop all tables and close the connection"
   ]
  },
  {
   "cell_type": "code",
   "execution_count": 20,
   "metadata": {
    "editable": true
   },
   "outputs": [],
   "source": [
    "for query in drop_table_queries:\n",
    "    session.execute(query)"
   ]
  },
  {
   "cell_type": "code",
   "execution_count": 21,
   "metadata": {
    "editable": true
   },
   "outputs": [],
   "source": [
    "session.shutdown()\n",
    "cluster.shutdown()"
   ]
  }
 ],
 "metadata": {
  "kernelspec": {
   "display_name": "Python 3",
   "language": "python",
   "name": "python3"
  },
  "language_info": {
   "codemirror_mode": {
    "name": "ipython",
    "version": 3
   },
   "file_extension": ".py",
   "mimetype": "text/x-python",
   "name": "python",
   "nbconvert_exporter": "python",
   "pygments_lexer": "ipython3",
   "version": "3.8.1"
  }
 },
 "nbformat": 4,
 "nbformat_minor": 4
}
